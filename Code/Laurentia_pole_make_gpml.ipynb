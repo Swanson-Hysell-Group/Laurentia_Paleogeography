{
 "cells": [
  {
   "cell_type": "code",
   "execution_count": null,
   "metadata": {},
   "outputs": [],
   "source": [
    "import pygplates\n",
    "import numpy as np\n",
    "import pandas as pd"
   ]
  },
  {
   "cell_type": "code",
   "execution_count": null,
   "metadata": {},
   "outputs": [],
   "source": [
    "Laurentia_poles = pd.read_"
   ]
  },
  {
   "cell_type": "code",
   "execution_count": null,
   "metadata": {},
   "outputs": [],
   "source": [
    "def make_GPML(pmag_data,output_file_name):\n",
    "    vgps = []\n",
    "    for n in pmag_data.index:\n",
    "        # The pole position and the average sample site position.\n",
    "        pole_position = pygplates.PointOnSphere(pmag_data.PLAT[n], pmag_data.PLONG[n])\n",
    "        average_sample_site_position = pygplates.PointOnSphere(pmag_data.SLAT[n], pmag_data.SLONG[n])\n",
    "\n",
    "        # Create the virtual geomagnetic pole feature.\n",
    "        virtual_geomagnetic_pole_feature = pygplates.Feature.create_reconstructable_feature(\n",
    "            pygplates.FeatureType.gpml_virtual_geomagnetic_pole,pole_position,\n",
    "            name=str(pmag_data.ROCKNAME[n]), \n",
    "            reconstruction_plate_id=pmag_data.Plate_ID[n])\n",
    "    #reconstruction_plate_id=701"
   ]
  },
  {
   "cell_type": "code",
   "execution_count": null,
   "metadata": {},
   "outputs": [],
   "source": [
    "def make_GPML_w_plates(pmag_data,static_polygons_file_path,\n",
    "                       rotation_model_file_path,output_file_name):\n",
    "    \"\"\"\n",
    "    pmag_data : data frame with paleomagnetic poles. It needs to have fields\n",
    "                named PLONG, PLAT, SLONG, SLAT, A95 and nominal_age\n",
    "    static_polygons_file_path : string to static polygons are the 'partitioning \n",
    "        features used to assign plate IDs\n",
    "    rotation_model_file_path : string to rotation model partition_into_plates \n",
    "        function requires a rotation model, since sometimes this would be \n",
    "        necessary even at present day (for example to resolve topological polygons)\n",
    "    output_file_name : string for output file\n",
    "    \"\"\"\n",
    "    vgps = []\n",
    "    for n in pmag_data.index:\n",
    "        # The pole position and the average sample site position.\n",
    "        pole_position = pygplates.PointOnSphere(pmag_data.PLAT[n], pmag_data.PLONG[n])\n",
    "        average_sample_site_position = pygplates.PointOnSphere(pmag_data.SLAT[n], pmag_data.SLONG[n])\n",
    "\n",
    "        # Create the virtual geomagnetic pole feature.\n",
    "        virtual_geomagnetic_pole_feature = pygplates.Feature.create_reconstructable_feature(\n",
    "            pygplates.FeatureType.gpml_virtual_geomagnetic_pole,pole_position,name=str(pmag_data.ROCKNAME[n]))\n",
    "    #reconstruction_plate_id=701\n",
    "\n",
    "        # Set the average sample site position.\n",
    "        # We need to specify its property name otherwise it defaults to the pole position and overwrites it.\n",
    "        virtual_geomagnetic_pole_feature.set_geometry(\n",
    "            average_sample_site_position,\n",
    "            pygplates.PropertyName.gpml_average_sample_site_position)\n",
    "\n",
    "        # Set the pole position uncertainty and the average age.\n",
    "        virtual_geomagnetic_pole_feature.set_double(\n",
    "            pygplates.PropertyName.gpml_pole_a95,\n",
    "            float(pmag_data.A95[n]))\n",
    "        virtual_geomagnetic_pole_feature.set_double(\n",
    "            pygplates.PropertyName.gpml_average_age,\n",
    "            pmag_data['nominal age'][n])\n",
    "        vgps.append(virtual_geomagnetic_pole_feature)\n",
    "        \n",
    "    static_polygons = pygplates.FeatureCollection(static_polygons_file_path)\n",
    "    rotation_model = pygplates.RotationModel(rotation_model_file_path)\n",
    "        \n",
    "    # The partition points function can then be used as before\n",
    "    vgps_plates = pygplates.partition_into_plates(static_polygons,rotation_model,vgps)\n",
    "\n",
    "    output_features = pygplates.FeatureCollection(vgps_plates)\n",
    "\n",
    "    # Note that the output format could be shp, gmt, gpml or gpmlz - the extension controls the format\n",
    "    output_features.write(output_file_name)"
   ]
  }
 ],
 "metadata": {
  "kernelspec": {
   "display_name": "Python 2",
   "language": "python",
   "name": "python2"
  },
  "language_info": {
   "codemirror_mode": {
    "name": "ipython",
    "version": 2
   },
   "file_extension": ".py",
   "mimetype": "text/x-python",
   "name": "python",
   "nbconvert_exporter": "python",
   "pygments_lexer": "ipython2",
   "version": "2.7.15"
  }
 },
 "nbformat": 4,
 "nbformat_minor": 2
}
