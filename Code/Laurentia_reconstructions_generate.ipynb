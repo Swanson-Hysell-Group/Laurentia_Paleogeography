{
 "cells": [
  {
   "cell_type": "markdown",
   "metadata": {},
   "source": [
    "# Laurentia paleogeographic reconstructions generation\n",
    "\n",
    "This Jupyter notebook develops paleogeographic reconstructions for Laurentia using the ```pygplates``` module (it therefore needs to be run with a Python 2.7 kernel). It is associated with the manuscript:\n",
    "\n",
    "**The Precambrian paleogeography of Laurentia** written by Nicholas L. Swanson-Hysell for a book entitled *Ancient Supercontinents and the Paleogeography of the Earth*\n",
    "\n",
    "The paleogeographic reconstructions use the model of Whitmeyer and Karlstrom (2007) with additions for Greenland based on St-Onge et al. 2009. The following PLATE_ID values are used for the different elements. Some of these 4-digit numbers follow the model of Eglington and Evans. The Eglington and Evans model had many more tectonic blocks than that of Whitmeyer and Karlstrom such that these assignments correspond to one of the numerous blocks that make up a given block.\n",
    "\n",
    "## Terrane plate IDs\n",
    "\n",
    "| Tectonic Block | Plate ID | Plate ID note |\n",
    "|------|-----|-----|\n",
    "| Churchill Province | 10496 | corresponds to Churchill (SE) in EE |\n",
    "| Hearne Province | 10015 | corresponds to Hearne South in EE |\n",
    "| Greenland_Aasiaat | 10028 | corresponds to Aasiaat in EE |\n",
    "| Greenland_Inglefield | 10568 | corresponds to Inglefield in EE |\n",
    "| Greenland_Ketilidian | 10018 | corresponds to Ketilidian in EE |\n",
    "| Greenland_NorthAtlantic | 10032 | corresponds to North Atlantic in EE |\n",
    "| Greenland_Rae | 10036 | corresponds to Rae (Greenland) in EE |\n",
    "| Grouse Creek Block | 19049 |  No equivelant block in EE (grouped with Wyoming) |\n",
    "| Marshfield Terrane | 19000 | No equivelant block in EE |\n",
    "| Medicine Hat Block | 10551 | corresponds to Medicine Hat in EE|\n",
    "| MetaIncognita Block | 10545 | Not given this name in WK07, but has differential motion relative to Rae; corresponds to MetaIncognita Block in EE |\n",
    "| Nain | 10029 | corresponds to Nain in EE (mainland Canada) |\n",
    "| Mojavia | 10052 | corresponds to Mojave in EE |\n",
    "| Nova | 10549 | Cordillera Archean Block in WK07; corresponds to Paleoproteroic Nova Block in EE |\n",
    "| Rae Province | 10640 | corresponds to Rae (SW) in EE |\n",
    "| Sask craton | 10039 | correspond to Sask in EE |\n",
    "| Scotland | 10258 | not a block in the WK07 model, but assigned to pole list; corresponds to N Highlands in EE\n",
    "| Slave Province | 10041 | corresponds to Slave W in EE |\n",
    "| Superior (east) | 10043 | corresponds to Superior (Abitibi) in EE |\n",
    "| Superior (west) | 10023 | corresponds to Superior (Minnesota River Valley) in EE |\n",
    "| Svalbard | 10296 | corresponds to Svalbard E in EE |\n",
    "| Wyoming Province | 10049 | corresponds to Wyoming in EE |"
   ]
  },
  {
   "cell_type": "code",
   "execution_count": 18,
   "metadata": {},
   "outputs": [],
   "source": [
    "import pandas as pd\n",
    "import numpy as np\n",
    "import matplotlib.pyplot as plt\n",
    "import pygplates"
   ]
  },
  {
   "cell_type": "markdown",
   "metadata": {},
   "source": [
    "## Make GMPL files of poles"
   ]
  },
  {
   "cell_type": "code",
   "execution_count": 19,
   "metadata": {},
   "outputs": [],
   "source": [
    "def make_GPML(pmag_data,output_file_name):\n",
    "    vgps = []\n",
    "    for n in pmag_data.index:\n",
    "        # The pole position and the average sample site position.\n",
    "        pole_position = pygplates.PointOnSphere(pmag_data.PLAT[n], pmag_data.PLONG[n])\n",
    "        average_sample_site_position = pygplates.PointOnSphere(pmag_data.SLAT[n], pmag_data.SLONG[n])\n",
    "\n",
    "        # Create the virtual geomagnetic pole feature.\n",
    "        virtual_geomagnetic_pole_feature = pygplates.Feature.create_reconstructable_feature(\n",
    "            pygplates.FeatureType.gpml_virtual_geomagnetic_pole,pole_position,\n",
    "            name=str(pmag_data.ROCKNAME[n]),reconstruction_plate_id=int(pmag_data.Plate_ID[n]))\n",
    "        \n",
    "        #, reconstruction_plate_id=str(pmag_data.Plate_ID[n]))\n",
    "\n",
    "        # Set the average sample site position.\n",
    "        # We need to specify its property name otherwise it defaults to the pole position and overwrites it.\n",
    "        virtual_geomagnetic_pole_feature.set_geometry(\n",
    "            average_sample_site_position,\n",
    "            pygplates.PropertyName.gpml_average_sample_site_position) \n",
    "        \n",
    "        # Set the pole position uncertainty and the average age.\n",
    "        virtual_geomagnetic_pole_feature.set_double(\n",
    "            pygplates.PropertyName.gpml_pole_a95,\n",
    "            float(pmag_data.A95[n]))\n",
    "        virtual_geomagnetic_pole_feature.set_double(\n",
    "            pygplates.PropertyName.gpml_average_age,\n",
    "            pmag_data['nominal age'][n])\n",
    "        vgps.append(virtual_geomagnetic_pole_feature)\n",
    "        \n",
    "    output_features = pygplates.FeatureCollection(vgps)\n",
    "\n",
    "    # Note that the output format could be shp, gmt, gpml or gpmlz - the extension controls the format\n",
    "    output_features.write(output_file_name)"
   ]
  },
  {
   "cell_type": "code",
   "execution_count": 20,
   "metadata": {},
   "outputs": [],
   "source": [
    "Leirubakki_poles = pd.read_csv('../Data/Leirubakki_poles_w_PlateID.csv')\n",
    "Leirubakki_poles.dropna(subset = [\"Plate_ID\"], inplace=True)\n",
    "make_GPML(Leirubakki_poles,'../Data/Laurentia_poles.gpml')"
   ]
  },
  {
   "cell_type": "code",
   "execution_count": 21,
   "metadata": {},
   "outputs": [],
   "source": [
    "running_mean = pd.read_csv('../Data/Laurentia_running_mean.csv')\n",
    "make_GPML(running_mean,'../Data/Laurentia_running_mean.gpml')"
   ]
  },
  {
   "cell_type": "markdown",
   "metadata": {},
   "source": [
    "## Make Laurentia reconstructions with a simple Laurentia rotation model"
   ]
  },
  {
   "cell_type": "code",
   "execution_count": 5,
   "metadata": {},
   "outputs": [],
   "source": [
    "rotation_model = pygplates.FeatureCollection('../Models/simple_Laurentia_model.rot')\n",
    "\n",
    "anchor_plate = 0\n",
    "Laurentia_pre_430 = '../Data/Whitmeyer2007_GIS/Laurentia.shp'\n",
    "\n",
    "pygplates.reconstruct(Laurentia_pre_430, rotation_model, '../Reconstructions/Proterozoic_Laurentia_simple/0Ma_Laurentia_pre_430.shp', 0, anchor_plate)\n",
    "#for reconstruction_time in [1740,1440,1140,740]:\n",
    "for reconstruction_time in [2220,2120,1980,1880,1800,1750,1600,1450,1300,1150,1000,850,700,550,0]:\n",
    "    export_filename = '../Reconstructions/Proterozoic_Laurentia_simple/{0}Ma_Laurentia.shp'.format(reconstruction_time)\n",
    "    pygplates.reconstruct(Laurentia_pre_430, rotation_model, export_filename, reconstruction_time, anchor_plate)"
   ]
  },
  {
   "cell_type": "markdown",
   "metadata": {},
   "source": [
    "Calculate and export the Euler poles for Laurentia associated with the reconstruction times and export to .csv"
   ]
  },
  {
   "cell_type": "code",
   "execution_count": 6,
   "metadata": {},
   "outputs": [],
   "source": [
    "input_rotation_filename = '../Models/simple_Laurentia_model.rot'\n",
    "times = [1750,1600,1450,1300,1150,1000,850,700,550]\n",
    "plate_id = 1000\n",
    "empty_series = pd.Series(np.zeros(len(times)))\n",
    "rotations = pd.DataFrame(columns = ['time', 'pole_lat', 'pole_lon', 'pole_angle'])\n",
    "rotations['time'] = empty_series\n",
    "rotations['pole_lat'] = empty_series\n",
    "rotations['pole_lon'] = empty_series\n",
    "rotations['pole_angle'] = empty_series\n",
    "\n",
    "rotation_model_object = pygplates.RotationModel(input_rotation_filename)\n",
    "\n",
    "for n in range(0,len(times)):\n",
    "    finite_rotation = rotation_model_object.get_rotation(times[n],plate_id,0,0)\n",
    "    pole_lat,pole_lon,pole_angle = finite_rotation.get_lat_lon_euler_pole_and_angle_degrees()\n",
    "    rotations['time'][n] = times[n]\n",
    "    rotations['pole_lat'][n] = pole_lat\n",
    "    rotations['pole_lon'][n] = pole_lon\n",
    "    rotations['pole_angle'][n] = pole_angle\n",
    "\n",
    "rotations.to_csv('../Reconstructions/euler_rotations_Laurentia.csv')"
   ]
  },
  {
   "cell_type": "code",
   "execution_count": 7,
   "metadata": {},
   "outputs": [],
   "source": [
    "def make_euler_file(plate_id,times,input_rotation_filename):\n",
    "    \n",
    "    empty_series = pd.Series(np.zeros(len(times)))\n",
    "    rotations = pd.DataFrame(columns = ['time', 'pole_lat', 'pole_lon', 'pole_angle'])\n",
    "    rotations['time'] = empty_series\n",
    "    rotations['pole_lat'] = empty_series\n",
    "    rotations['pole_lon'] = empty_series\n",
    "    rotations['pole_angle'] = empty_series\n",
    "\n",
    "    rotation_model_object = pygplates.RotationModel(input_rotation_filename)\n",
    "\n",
    "    for n in range(0,len(times)):\n",
    "        finite_rotation = rotation_model_object.get_rotation(times[n],plate_id,0,0)\n",
    "        pole_lat,pole_lon,pole_angle = finite_rotation.get_lat_lon_euler_pole_and_angle_degrees()\n",
    "        rotations['time'][n] = times[n]\n",
    "        rotations['pole_lat'][n] = pole_lat\n",
    "        rotations['pole_lon'][n] = pole_lon\n",
    "        rotations['pole_angle'][n] = pole_angle\n",
    "\n",
    "    rotations.to_csv('../Reconstructions/euler_rotations_{0}.csv'.format(plate_id))\n",
    "    \n",
    "make_euler_file(10043,[2220,2120,1980,1880,1800,0],'../Models/simple_Laurentia_model.rot')\n",
    "make_euler_file(10023,[2220,2120,1980,1880,1800,0],'../Models/simple_Laurentia_model.rot')\n",
    "make_euler_file(10041,[2220,2120,1980,1880,1800,0],'../Models/simple_Laurentia_model.rot')\n",
    "make_euler_file(10640,[2220,2120,1980,1880,1800,0],'../Models/simple_Laurentia_model.rot')\n",
    "make_euler_file(1000,[2220,2120,1980,1880,1800,0],'../Models/simple_Laurentia_model.rot')"
   ]
  },
  {
   "cell_type": "code",
   "execution_count": null,
   "metadata": {},
   "outputs": [],
   "source": []
  },
  {
   "cell_type": "code",
   "execution_count": null,
   "metadata": {},
   "outputs": [],
   "source": []
  },
  {
   "cell_type": "code",
   "execution_count": 8,
   "metadata": {},
   "outputs": [],
   "source": [
    "Laurentia_poles = pygplates.FeatureCollection('../Data/Laurentia_poles.gpml')\n",
    "pygplates.reconstruct(Laurentia_poles, rotation_model, '../Reconstructions/Laurentia_poles_1750.shp', 1750, anchor_plate)"
   ]
  },
  {
   "cell_type": "markdown",
   "metadata": {},
   "source": [
    "Apply to simple CEED6 Laurentia outline:"
   ]
  },
  {
   "cell_type": "code",
   "execution_count": 9,
   "metadata": {},
   "outputs": [],
   "source": [
    "rotation_model = pygplates.FeatureCollection('../Models/simple_Laurentia_model.rot')\n",
    "\n",
    "anchor_plate = 0\n",
    "Laurentia_pre_430 = '../Models/CEED6_poly_430_530_noGreenland_1000/CEED6_POLY.shp'\n",
    "\n",
    "pygplates.reconstruct(Laurentia_pre_430, rotation_model, '../Reconstructions/Proterozoic_Laurentia_simple/0Ma_Laurentia_pre_430.shp', 0, anchor_plate)\n",
    "# for reconstruction_time in np.arange(530,1800,10):\n",
    "for reconstruction_time in np.arange(1000,1100,10):\n",
    "    export_filename = '../Reconstructions/Proterozoic_Laurentia_simple_outline/{0}Ma_Laurentia.shp'.format(reconstruction_time)\n",
    "    pygplates.reconstruct(Laurentia_pre_430, rotation_model, export_filename, reconstruction_time, anchor_plate)"
   ]
  },
  {
   "cell_type": "markdown",
   "metadata": {},
   "source": [
    "## Make Superior and Slave Province reconstructions prior to Laurentia assembly "
   ]
  },
  {
   "cell_type": "code",
   "execution_count": 10,
   "metadata": {},
   "outputs": [],
   "source": [
    "rotation_model = pygplates.FeatureCollection('../Models/simple_Laurentia_model.rot')\n",
    "\n",
    "anchor_plate = 0\n",
    "Laurentia_pre_430 = '../Data/Whitmeyer2007_GIS/Laurentia.shp'\n",
    "\n",
    "pygplates.reconstruct(Laurentia_pre_430, rotation_model, '../Reconstructions/Proterozoic_Laurentia_simple/0Ma_Laurentia_pre_430.shp', 0, anchor_plate)\n",
    "#for reconstruction_time in [1740,1440,1140,740]:\n",
    "for reconstruction_time in [1750,1600,1450,1300,1150,1000,850,700,550]:\n",
    "    export_filename = '../Reconstructions/Proterozoic_Laurentia_simple/{0}Ma_Laurentia.shp'.format(reconstruction_time)\n",
    "    pygplates.reconstruct(Laurentia_pre_430, rotation_model, export_filename, reconstruction_time, anchor_plate)"
   ]
  },
  {
   "cell_type": "markdown",
   "metadata": {},
   "source": [
    "# Calculate centroid paths for Laurentia using different models\n",
    "\n",
    "This noteboook contains code associated the manuscript chapter on Laurentia written by N. Swanson-Hysell for the book *“Ancient Supercontinents and the Paleogeography of the Earth.”* It calculates and exports motion paths implied for Laurentia by different paleogeographic models.\n",
    "\n"
   ]
  },
  {
   "cell_type": "code",
   "execution_count": 22,
   "metadata": {},
   "outputs": [],
   "source": [
    "import numpy as np\n",
    "import pygplates\n",
    "import matplotlib.pyplot as plt\n",
    "import pandas as pd"
   ]
  },
  {
   "cell_type": "code",
   "execution_count": 23,
   "metadata": {},
   "outputs": [],
   "source": [
    "duluth_lat = 46.8\n",
    "duluth_lon = 267.9"
   ]
  },
  {
   "cell_type": "markdown",
   "metadata": {},
   "source": [
    "## Define a function that calculates a motion path of a point\n",
    "\n",
    "We want the motion path relative to the present. As a result, we need to set the digitisation_time and reconstruction_time to be 0. The function below calculates the motion path from the max_age until the present and then returns the motion path between the max_age and the provided min_age."
   ]
  },
  {
   "cell_type": "code",
   "execution_count": 24,
   "metadata": {},
   "outputs": [],
   "source": [
    "def motion_path_calc(point_lat,point_lon,min_age,max_age,rotation_file_path,moving_plate_id,relative_plate_id):\n",
    "    \n",
    "    rotation_model = pygplates.RotationModel(rotation_file_path)\n",
    "    \n",
    "    SeedPoint = (point_lat,point_lon)\n",
    "    MovingPlate = moving_plate_id\n",
    "    RelativePlate = relative_plate_id\n",
    "    times = np.arange(0,max_age,2)\n",
    "    times_output = np.arange(min_age,max_age,2)\n",
    "    \n",
    "    # Create a motion path feature\n",
    "    digitisation_time = 0\n",
    "    seed_points_at_digitisation_time = pygplates.MultiPointOnSphere([SeedPoint]) \n",
    "    motion_path_feature = pygplates.Feature.create_motion_path(\n",
    "            seed_points_at_digitisation_time,\n",
    "            times,\n",
    "            valid_time=(max_age, 0),\n",
    "            relative_plate=RelativePlate,\n",
    "            reconstruction_plate_id = MovingPlate)\n",
    "    \n",
    "    # Create the shape of the motion path\n",
    "    reconstruction_time = 0\n",
    "    reconstructed_motion_paths = []\n",
    "    pygplates.reconstruct(\n",
    "            motion_path_feature, rotation_model, reconstructed_motion_paths, reconstruction_time,\n",
    "            reconstruct_type=pygplates.ReconstructType.motion_path)\n",
    "\n",
    "    # get the reconstructed coordinates into numpy arrays\n",
    "    for reconstructed_motion_path in reconstructed_motion_paths:\n",
    "        trail = reconstructed_motion_path.get_motion_path().to_lat_lon_array()\n",
    "        \n",
    "    return np.flipud(times_output), trail[0:len(times_output)]"
   ]
  },
  {
   "cell_type": "markdown",
   "metadata": {},
   "source": [
    "## Torsvik and Cocks, 2017"
   ]
  },
  {
   "cell_type": "code",
   "execution_count": 25,
   "metadata": {},
   "outputs": [
    {
     "data": {
      "image/png": "[encoded data removed]",
      "text/plain": [
       "<matplotlib.figure.Figure at 0x11ec18190>"
      ]
     },
     "metadata": {},
     "output_type": "display_data"
    }
   ],
   "source": [
    "rotation_file_path = '../models/TC2017.rot'\n",
    "TC_2017_times, TC_2017_trail = motion_path_calc(duluth_lat,duluth_lon,0,520,rotation_file_path,101,1)\n",
    "\n",
    "plt.plot(TC_2017_times,TC_2017_trail[:,0])\n",
    "plt.title('Paleolatitude of Laurentia centroid')\n",
    "plt.xlabel('Time (Ma)')\n",
    "plt.ylabel('Latitude')\n",
    "plt.ylim(-90,90)\n",
    "plt.gca().grid()\n",
    "plt.gca().invert_xaxis()\n",
    "plt.show()\n",
    "\n",
    "TC_2017_centroid_plat = pd.DataFrame(data=[TC_2017_times.tolist(),TC_2017_trail[:,0].tolist()]).transpose()\n",
    "TC_2017_centroid_plat.to_csv('../models/motion_paths/Torsvik_2017_duluth_reconstruct.csv')"
   ]
  },
  {
   "cell_type": "markdown",
   "metadata": {},
   "source": [
    "## Swanson-Hysell and Macdonald, 2017\n",
    "\n",
    "This model is a modification of the Torsvik and Cocks (2017) model and utilizes data from allochthonous terranes as constraints in the Ordovician."
   ]
  },
  {
   "cell_type": "code",
   "execution_count": 26,
   "metadata": {},
   "outputs": [
    {
     "data": {
      "image/png": "[encoded data removed]",
      "text/plain": [
       "<matplotlib.figure.Figure at 0x11ec18510>"
      ]
     },
     "metadata": {},
     "output_type": "display_data"
    }
   ],
   "source": [
    "rotation_file_path = '../models/TC2017_SHM2017_modified.rot'\n",
    "SH_2017_times, SH_2017_trail = motion_path_calc(duluth_lat,duluth_lon,0,520,rotation_file_path,101,1)\n",
    "\n",
    "plt.plot(SH_2017_times,SH_2017_trail[:,0])\n",
    "plt.title('Paleolatitude of Laurentia centroid')\n",
    "plt.xlabel('Time (Ma)')\n",
    "plt.ylabel('Latitude')\n",
    "plt.ylim(-90,90)\n",
    "plt.gca().grid()\n",
    "plt.gca().invert_xaxis()\n",
    "plt.show()\n",
    "\n",
    "SH_2017_centroid_plat = pd.DataFrame(data=[SH_2017_times.tolist(),SH_2017_trail[:,0].tolist()]).transpose()\n",
    "SH_2017_centroid_plat.to_csv('../models/motion_paths/SH_2017_duluth_reconstruct.csv')"
   ]
  },
  {
   "cell_type": "markdown",
   "metadata": {},
   "source": [
    "## Wright et al., 2013\n",
    "\n",
    "This model is the default model being used in Macrostrat. It seeks to cover the entiriety of the Phanerozoic. It has many fewer tectonic elements than Torsvik and Cocks (2017)."
   ]
  },
  {
   "cell_type": "code",
   "execution_count": 27,
   "metadata": {},
   "outputs": [
    {
     "data": {
      "image/png": "[encoded data removed]",
      "text/plain": [
       "<matplotlib.figure.Figure at 0x11ec91050>"
      ]
     },
     "metadata": {},
     "output_type": "display_data"
    }
   ],
   "source": [
    "rotation_file_path = '../models/Wright2013.rot'\n",
    "W_2013_times, W_2013_trail = motion_path_calc(duluth_lat,duluth_lon,0,539,rotation_file_path,101,0)\n",
    "\n",
    "plt.plot(W_2013_times,W_2013_trail[:,0])\n",
    "plt.title('Paleolatitude of Laurentia centroid')\n",
    "plt.xlabel('Time (Ma)')\n",
    "plt.ylabel('Latitude')\n",
    "plt.ylim(-90,90)\n",
    "plt.gca().grid()\n",
    "plt.gca().invert_xaxis()\n",
    "plt.show()\n",
    "\n",
    "W_2013_centroid_plat = pd.DataFrame(data=[W_2013_times.tolist(),W_2013_trail[:,0].tolist()]).transpose()\n",
    "W_2013_centroid_plat.to_csv('../models/motion_paths/W_2013_duluth_reconstruct.csv')"
   ]
  },
  {
   "cell_type": "markdown",
   "metadata": {},
   "source": [
    "## Li, Evans and Halverson 2013\n",
    "\n",
    "This rotation file was not published with the 2013 study, but was provided by Dave Evans in November 2019. Laurentia is plate 199 and its position is given from 1100 Ma to Pangea assembly "
   ]
  },
  {
   "cell_type": "code",
   "execution_count": 28,
   "metadata": {},
   "outputs": [
    {
     "data": {
      "image/png": "[encoded data removed]",
      "text/plain": [
       "<matplotlib.figure.Figure at 0x11e9b2f90>"
      ]
     },
     "metadata": {},
     "output_type": "display_data"
    }
   ],
   "source": [
    "rotation_file_path = '../models/LiEvansHalverson2013.rot'\n",
    "\n",
    "LEH_2013_times, LEH_2013_trail = motion_path_calc(duluth_lat,duluth_lon,400,1100,rotation_file_path,199,0)\n",
    "\n",
    "plt.plot(LEH_2013_times,LEH_2013_trail[:,0])\n",
    "plt.title('Paleolatitude of Laurentia centroid')\n",
    "plt.xlabel('Time (Ma)')\n",
    "plt.ylabel('Latitude')\n",
    "plt.ylim(-90,90)\n",
    "plt.gca().grid()\n",
    "plt.gca().invert_xaxis()\n",
    "plt.show()\n",
    "\n",
    "LEH_2013_centroid_plat = pd.DataFrame(data=[LEH_2013_times.tolist(),LEH_2013_trail[:,0].tolist()]).transpose()\n",
    "LEH_2013_centroid_plat.to_csv('../models/motion_paths/LEH_2013_duluth_reconstruct.csv')"
   ]
  },
  {
   "cell_type": "markdown",
   "metadata": {},
   "source": [
    "## Merdith et al., 2017\n",
    "\n",
    "The model starts in earnest at 1000 Ma. However, Laurentia's rotations in the .rot file go back to 1100 Ma and continue to 410 Ma."
   ]
  },
  {
   "cell_type": "code",
   "execution_count": 29,
   "metadata": {},
   "outputs": [
    {
     "data": {
      "image/png": "[encoded data removed]",
      "text/plain": [
       "<matplotlib.figure.Figure at 0x11eb899d0>"
      ]
     },
     "metadata": {},
     "output_type": "display_data"
    }
   ],
   "source": [
    "rotation_file_path = '../models/Merdith2017.rot'\n",
    "\n",
    "M_2017_times, M_2017_trail = motion_path_calc(duluth_lat,duluth_lon,410,1100,rotation_file_path,1001,0)\n",
    "\n",
    "plt.plot(M_2017_times,M_2017_trail[:,0])\n",
    "plt.title('Paleolatitude of Laurentia centroid')\n",
    "plt.xlabel('Time (Ma)')\n",
    "plt.ylabel('Latitude')\n",
    "plt.ylim(-90,90)\n",
    "plt.gca().grid()\n",
    "plt.gca().invert_xaxis()\n",
    "plt.show()\n",
    "\n",
    "M_2017_centroid_plat = pd.DataFrame(data=[M_2017_times.tolist(),M_2017_trail[:,0].tolist()]).transpose()\n",
    "M_2017_centroid_plat.to_csv('../models/motion_paths/M_2017_duluth_reconstruct.csv')"
   ]
  },
  {
   "cell_type": "markdown",
   "metadata": {},
   "source": [
    "## Minimal Laurentia model\n",
    "\n",
    "This model doesn't reconstruct Laurentia based on the poles from assumed correlations (such as Baltica) and relies on Laurentia poles along with interpolation."
   ]
  },
  {
   "cell_type": "code",
   "execution_count": 68,
   "metadata": {},
   "outputs": [
    {
     "data": {
      "image/png": "[encoded data removed]",
      "text/plain": [
       "<matplotlib.figure.Figure at 0x11fae1450>"
      ]
     },
     "metadata": {},
     "output_type": "display_data"
    }
   ],
   "source": [
    "rotation_file_path = '../models/simple_Laurentia_model.rot'\n",
    "\n",
    "SH_prot_times, SH_prot_trail = motion_path_calc(duluth_lat,duluth_lon,0,1800,rotation_file_path,1000,1)\n",
    "\n",
    "plt.plot(SH_prot_times,SH_prot_trail[:,0])\n",
    "plt.title('Paleolatitude of Laurentia centroid')\n",
    "plt.xlabel('Time (Ma)')\n",
    "plt.ylabel('Latitude')\n",
    "plt.ylim(-90,90)\n",
    "plt.gca().grid()\n",
    "plt.gca().invert_xaxis()\n",
    "plt.show()\n",
    "\n",
    "SH_prot_centroid_plat = pd.DataFrame(data=[SH_prot_times.tolist(),SH_prot_trail[:,0].tolist()]).transpose()\n",
    "SH_prot_centroid_plat.to_csv('../models/motion_paths/SH_prot_duluth_simple_reconstruct.csv')"
   ]
  },
  {
   "cell_type": "code",
   "execution_count": 69,
   "metadata": {},
   "outputs": [
    {
     "data": {
      "text/html": [
       "<div>\n",
       "<table border=\"1\" class=\"dataframe\">\n",
       "  <thead>\n",
       "    <tr style=\"text-align: right;\">\n",
       "      <th></th>\n",
       "      <th>Formation</th>\n",
       "      <th>lat</th>\n",
       "      <th>lon</th>\n",
       "      <th>age</th>\n",
       "      <th>age_lower</th>\n",
       "      <th>age_upper</th>\n",
       "    </tr>\n",
       "  </thead>\n",
       "  <tbody>\n",
       "    <tr>\n",
       "      <th>0</th>\n",
       "      <td>lower Belt Supergroup</td>\n",
       "      <td>49.0</td>\n",
       "      <td>-114</td>\n",
       "      <td>1470</td>\n",
       "      <td>1500</td>\n",
       "      <td>1466</td>\n",
       "    </tr>\n",
       "    <tr>\n",
       "      <th>1</th>\n",
       "      <td>upper Belt Supergroup</td>\n",
       "      <td>49.0</td>\n",
       "      <td>-114</td>\n",
       "      <td>1454</td>\n",
       "      <td>1463</td>\n",
       "      <td>1443</td>\n",
       "    </tr>\n",
       "    <tr>\n",
       "      <th>2</th>\n",
       "      <td>Iqqittuq</td>\n",
       "      <td>72.3</td>\n",
       "      <td>-81</td>\n",
       "      <td>1047</td>\n",
       "      <td>1060</td>\n",
       "      <td>1030</td>\n",
       "    </tr>\n",
       "    <tr>\n",
       "      <th>3</th>\n",
       "      <td>Ten Stone</td>\n",
       "      <td>64.5</td>\n",
       "      <td>-130</td>\n",
       "      <td>850</td>\n",
       "      <td>900</td>\n",
       "      <td>811</td>\n",
       "    </tr>\n",
       "    <tr>\n",
       "      <th>4</th>\n",
       "      <td>Minto Inlet</td>\n",
       "      <td>72.0</td>\n",
       "      <td>-113</td>\n",
       "      <td>850</td>\n",
       "      <td>900</td>\n",
       "      <td>811</td>\n",
       "    </tr>\n",
       "    <tr>\n",
       "      <th>5</th>\n",
       "      <td>Redstone River</td>\n",
       "      <td>64.5</td>\n",
       "      <td>-130</td>\n",
       "      <td>745</td>\n",
       "      <td>780</td>\n",
       "      <td>727</td>\n",
       "    </tr>\n",
       "    <tr>\n",
       "      <th>6</th>\n",
       "      <td>Kilian</td>\n",
       "      <td>72.0</td>\n",
       "      <td>-113</td>\n",
       "      <td>745</td>\n",
       "      <td>780</td>\n",
       "      <td>727</td>\n",
       "    </tr>\n",
       "    <tr>\n",
       "      <th>7</th>\n",
       "      <td>Canadian Maritime</td>\n",
       "      <td>46.0</td>\n",
       "      <td>298</td>\n",
       "      <td>340</td>\n",
       "      <td>340</td>\n",
       "      <td>340</td>\n",
       "    </tr>\n",
       "    <tr>\n",
       "      <th>8</th>\n",
       "      <td>Sverdrup</td>\n",
       "      <td>79.0</td>\n",
       "      <td>264</td>\n",
       "      <td>315</td>\n",
       "      <td>315</td>\n",
       "      <td>315</td>\n",
       "    </tr>\n",
       "    <tr>\n",
       "      <th>9</th>\n",
       "      <td>Midcontinental USA</td>\n",
       "      <td>41.0</td>\n",
       "      <td>257</td>\n",
       "      <td>270</td>\n",
       "      <td>270</td>\n",
       "      <td>270</td>\n",
       "    </tr>\n",
       "  </tbody>\n",
       "</table>\n",
       "</div>"
      ],
      "text/plain": [
       "               Formation   lat  lon   age  age_lower  age_upper\n",
       "0  lower Belt Supergroup  49.0 -114  1470       1500       1466\n",
       "1  upper Belt Supergroup  49.0 -114  1454       1463       1443\n",
       "2               Iqqittuq  72.3  -81  1047       1060       1030\n",
       "3              Ten Stone  64.5 -130   850        900        811\n",
       "4            Minto Inlet  72.0 -113   850        900        811\n",
       "5         Redstone River  64.5 -130   745        780        727\n",
       "6                 Kilian  72.0 -113   745        780        727\n",
       "7      Canadian Maritime  46.0  298   340        340        340\n",
       "8               Sverdrup  79.0  264   315        315        315\n",
       "9     Midcontinental USA  41.0  257   270        270        270"
      ]
     },
     "execution_count": 69,
     "metadata": {},
     "output_type": "execute_result"
    }
   ],
   "source": [
    "evaporites = pd.read_csv('../data/evaporites.csv')\n",
    "evaporites"
   ]
  },
  {
   "cell_type": "code",
   "execution_count": 120,
   "metadata": {},
   "outputs": [
    {
     "ename": "NameError",
     "evalue": "name 'mlines' is not defined",
     "output_type": "error",
     "traceback": [
      "\u001b[0;31m---------------------------------------------------------------------------\u001b[0m",
      "\u001b[0;31mNameError\u001b[0m                                 Traceback (most recent call last)",
      "\u001b[0;32m<ipython-input-120-d34a4c1a85f9>\u001b[0m in \u001b[0;36m<module>\u001b[0;34m()\u001b[0m\n\u001b[1;32m     80\u001b[0m \u001b[0;34m\u001b[0m\u001b[0m\n\u001b[1;32m     81\u001b[0m \u001b[0;34m\u001b[0m\u001b[0m\n\u001b[0;32m---> 82\u001b[0;31m mlines.Line2D([], [], color='brown', marker='*',\n\u001b[0m\u001b[1;32m     83\u001b[0m                           markersize=6, label='Blue stars')\n\u001b[1;32m     84\u001b[0m \u001b[0;34m\u001b[0m\u001b[0m\n",
      "\u001b[0;31mNameError\u001b[0m: name 'mlines' is not defined"
     ]
    }
   ],
   "source": [
    "import matplotlib.patches as patches\n",
    "from matplotlib.patches import Patch\n",
    "from matplotlib.lines import Line2D\n",
    "\n",
    "rotation_file_path = '../models/simple_Laurentia_model.rot'\n",
    "\n",
    "plt.figure(figsize=(8,4.5))\n",
    "\n",
    "for n in range(0,len(evaporites)):\n",
    "\n",
    "    evaporite_lat = evaporites.lat[n]\n",
    "    evaporite_lon = evaporites.lon[n]\n",
    "\n",
    "    age = evaporites.age[n]\n",
    "    age_lower = evaporites.age_lower[n]\n",
    "    age_upper = evaporites.age_upper[n]\n",
    "\n",
    "    evaporite_times, evaporite_path = motion_path_calc(evaporite_lat,evaporite_lon,age_upper,age_lower,rotation_file_path,1000,1)\n",
    "\n",
    "    plt.plot(evaporite_times,evaporite_path[:,0],color='brown')\n",
    "    \n",
    "    evaporite_times, evaporite_path = motion_path_calc(evaporite_lat,evaporite_lon,age-2,age,rotation_file_path,1000,1)\n",
    "    \n",
    "    plt.scatter(evaporite_times[0],evaporite_path[:,0][0],color='brown')\n",
    "\n",
    "rotation_file_path = '../models/LiEvansHalverson2013.rot'\n",
    "\n",
    "for n in range(2,7):\n",
    "\n",
    "\n",
    "    evaporite_lat = evaporites.lat[n]\n",
    "    evaporite_lon = evaporites.lon[n]\n",
    "\n",
    "    age = evaporites.age[n]\n",
    "    age_lower = evaporites.age_lower[n]\n",
    "    age_upper = evaporites.age_upper[n]\n",
    "\n",
    "    evaporite_times, evaporite_path = motion_path_calc(evaporite_lat,evaporite_lon,age_upper,age_lower,rotation_file_path,199,0)\n",
    "\n",
    "    plt.plot(evaporite_times,evaporite_path[:,0],color='green')\n",
    "    \n",
    "    evaporite_times, evaporite_path = motion_path_calc(evaporite_lat,evaporite_lon,age-2,age,rotation_file_path,199,0)\n",
    "    \n",
    "    plt.scatter(evaporite_times[0],evaporite_path[:,0][0],color='green')   \n",
    "    \n",
    "plt.text(evaporites.age[0],80,'1,2',horizontalalignment='left')\n",
    "plt.text(evaporites.age[2],80,'3',horizontalalignment='center')\n",
    "plt.text(evaporites.age[3],80,'4,5',horizontalalignment='center')\n",
    "plt.text(evaporites.age[5],80,'6,7',horizontalalignment='center')\n",
    "plt.text(evaporites.age[7],80,'8,9,10',horizontalalignment='left')\n",
    "    \n",
    "south_arid = patches.Rectangle((1800,-35),\n",
    "                 -1800,\n",
    "                 25,\n",
    "                 edgecolor='none',\n",
    "                 facecolor = 'khaki',zorder=-1)\n",
    "\n",
    "plt.gca().add_patch(south_arid)\n",
    "\n",
    "north_arid = patches.Rectangle((1800,10),\n",
    "                 -1800,\n",
    "                 25,\n",
    "                 edgecolor='none',\n",
    "                 facecolor = 'khaki',zorder=-1)\n",
    "\n",
    "plt.plot(SH_prot_times,SH_prot_trail[:,0],color='grey',zorder=1)\n",
    "\n",
    "plt.gca().add_patch(north_arid)\n",
    "\n",
    "    \n",
    "#plt.title('Paleolatitude of Laurentia evaporites')\n",
    "plt.xlabel('Time (Ma)')\n",
    "plt.ylabel('Paleolatitude ($\\circ$)')\n",
    "plt.ylim(-90,90)\n",
    "plt.xlim(0,1799)\n",
    "plt.gca().set_yticks([-90.,  -60.,  -30.,\n",
    "                                    0.,   30.,   60., 90.])\n",
    "plt.gca().grid()\n",
    "plt.gca().invert_xaxis()\n",
    "\n",
    "\n",
    "legend_elements = [Line2D([0], [0], color='grey', lw=1, label='Duluth latitude (simple Laurentia model)'),\n",
    "                   Line2D([0], [0], marker='o', color='white', label='evaporites (simple Laurentia model)',\n",
    "                          markerfacecolor='brown', markersize=6),\n",
    "                   Line2D([0], [0], marker='o', color='white', label='evaporites (Li, Evans, and Halverson 2013)',\n",
    "                          markerfacecolor='green', markersize=6),\n",
    "                   Patch(facecolor='khaki', edgecolor='none',\n",
    "                         label='arid latitudes')]\n",
    "\n",
    "plt.gca().legend(handles=legend_elements, prop={'size': 9},loc=4)\n",
    "\n",
    "plt.savefig('../Figures/Laurentia_evaporite_paleolatitude.pdf')\n",
    "plt.show()"
   ]
  },
  {
   "cell_type": "code",
   "execution_count": 39,
   "metadata": {},
   "outputs": [
    {
     "data": {
      "text/plain": [
       "array([[  28.70087457,  107.4436464 ],\n",
       "       [  28.20646295,  107.28801798],\n",
       "       [  27.71116221,  107.1367932 ],\n",
       "       [  27.21500105,  106.98989706],\n",
       "       [  26.71800745,  106.84725689],\n",
       "       [  26.22020874,  106.70880229],\n",
       "       [  25.72163154,  106.57446509],\n",
       "       [  25.22230188,  106.44417927],\n",
       "       [  24.72224515,  106.31788093],\n",
       "       [  24.22148617,  106.19550824],\n",
       "       [  23.72004919,  106.07700138],\n",
       "       [  23.21795792,  105.9623025 ],\n",
       "       [  22.49355947,  105.99191829],\n",
       "       [  21.76914479,  106.02091085],\n",
       "       [  21.04471442,  106.0492989 ],\n",
       "       [  20.32026885,  106.07710035],\n",
       "       [  19.59580857,  106.10433237]])"
      ]
     },
     "execution_count": 39,
     "metadata": {},
     "output_type": "execute_result"
    }
   ],
   "source": []
  },
  {
   "cell_type": "code",
   "execution_count": 19,
   "metadata": {},
   "outputs": [],
   "source": [
    "####ORIGINAL FUNCTION THAT INCLUDES THE PARTITION INTO PLATES TAKING A PLATE MODEL FUNCTIONALITY####\n",
    "\n",
    "def make_GPML_w_plates(pmag_data,static_polygons_file_path,\n",
    "                       rotation_model_file_path,output_file_name):\n",
    "    \"\"\"\n",
    "    pmag_data : data frame with paleomagnetic poles. It needs to have fields\n",
    "                named PLONG, PLAT, SLONG, SLAT, A95 and nominal_age\n",
    "    static_polygons_file_path : string to static polygons are the 'partitioning \n",
    "        features used to assign plate IDs\n",
    "    rotation_model_file_path : string to rotation model partition_into_plates \n",
    "        function requires a rotation model, since sometimes this would be \n",
    "        necessary even at present day (for example to resolve topological polygons)\n",
    "    output_file_name : string for output file\n",
    "    \"\"\"\n",
    "    vgps = []\n",
    "    for n in pmag_data.index:\n",
    "        # The pole position and the average sample site position.\n",
    "        pole_position = pygplates.PointOnSphere(pmag_data.PLAT[n], pmag_data.PLONG[n])\n",
    "        average_sample_site_position = pygplates.PointOnSphere(pmag_data.SLAT[n], pmag_data.SLONG[n])\n",
    "\n",
    "        # Create the virtual geomagnetic pole feature.\n",
    "        virtual_geomagnetic_pole_feature = pygplates.Feature.create_reconstructable_feature(\n",
    "            pygplates.FeatureType.gpml_virtual_geomagnetic_pole,pole_position,name=str(pmag_data.ROCKNAME[n]))\n",
    "    #reconstruction_plate_id=701\n",
    "\n",
    "        # Set the average sample site position.\n",
    "        # We need to specify its property name otherwise it defaults to the pole position and overwrites it.\n",
    "        virtual_geomagnetic_pole_feature.set_geometry(\n",
    "            average_sample_site_position,\n",
    "            pygplates.PropertyName.gpml_average_sample_site_position)\n",
    "\n",
    "        # Set the pole position uncertainty and the average age.\n",
    "        virtual_geomagnetic_pole_feature.set_double(\n",
    "            pygplates.PropertyName.gpml_pole_a95,\n",
    "            float(pmag_data.A95[n]))\n",
    "        virtual_geomagnetic_pole_feature.set_double(\n",
    "            pygplates.PropertyName.gpml_average_age,\n",
    "            pmag_data['nominal age'][n])\n",
    "        vgps.append(virtual_geomagnetic_pole_feature)\n",
    "        \n",
    "    static_polygons = pygplates.FeatureCollection(static_polygons_file_path)\n",
    "    rotation_model = pygplates.RotationModel(rotation_model_file_path)\n",
    "        \n",
    "    # The partition points function can then be used as before\n",
    "    vgps_plates = pygplates.partition_into_plates(static_polygons,rotation_model,vgps)\n",
    "\n",
    "    output_features = pygplates.FeatureCollection(vgps_plates)\n",
    "\n",
    "    # Note that the output format could be shp, gmt, gpml or gpmlz - the extension controls the format\n",
    "    output_features.write(output_file_name)"
   ]
  },
  {
   "cell_type": "markdown",
   "metadata": {},
   "source": [
    "Using the CEED6 polygons over the Phanerozoic."
   ]
  },
  {
   "cell_type": "code",
   "execution_count": 20,
   "metadata": {},
   "outputs": [
    {
     "ename": "OpenFileForReadingError",
     "evalue": "Error opening file 'CEED6_POLY.shp' for reading",
     "output_type": "error",
     "traceback": [
      "\u001b[0;31m---------------------------------------------------------------------------\u001b[0m",
      "\u001b[0;31mOpenFileForReadingError\u001b[0m                   Traceback (most recent call last)",
      "\u001b[0;32m<ipython-input-20-3fbb4bdf5031>\u001b[0m in \u001b[0;36m<module>\u001b[0;34m()\u001b[0m\n\u001b[1;32m      7\u001b[0m \u001b[0mLaurentia_430_530\u001b[0m \u001b[0;34m=\u001b[0m \u001b[0;34m'../models/CEED6_poly_430_530_noGreenland/CEED6_POLY.shp'\u001b[0m\u001b[0;34m\u001b[0m\u001b[0m\n\u001b[1;32m      8\u001b[0m \u001b[0;34m\u001b[0m\u001b[0m\n\u001b[0;32m----> 9\u001b[0;31m \u001b[0mpygplates\u001b[0m\u001b[0;34m.\u001b[0m\u001b[0mreconstruct\u001b[0m\u001b[0;34m(\u001b[0m\u001b[0mLaurentia_0_300\u001b[0m\u001b[0;34m,\u001b[0m \u001b[0mrotation_model\u001b[0m\u001b[0;34m,\u001b[0m \u001b[0;34m'../reconstructions/TC2017_SH2017/0Ma_Laurentia_0_300.shp'\u001b[0m\u001b[0;34m,\u001b[0m \u001b[0;36m0\u001b[0m\u001b[0;34m,\u001b[0m \u001b[0manchor_plate\u001b[0m\u001b[0;34m)\u001b[0m\u001b[0;34m\u001b[0m\u001b[0m\n\u001b[0m\u001b[1;32m     10\u001b[0m \u001b[0mpygplates\u001b[0m\u001b[0;34m.\u001b[0m\u001b[0mreconstruct\u001b[0m\u001b[0;34m(\u001b[0m\u001b[0mLaurentia_300_420\u001b[0m\u001b[0;34m,\u001b[0m \u001b[0mrotation_model\u001b[0m\u001b[0;34m,\u001b[0m \u001b[0;34m'../reconstructions/TC2017_SH2017/0Ma_Laurentia_300_420.shp'\u001b[0m\u001b[0;34m,\u001b[0m \u001b[0;36m0\u001b[0m\u001b[0;34m,\u001b[0m \u001b[0manchor_plate\u001b[0m\u001b[0;34m)\u001b[0m\u001b[0;34m\u001b[0m\u001b[0m\n\u001b[1;32m     11\u001b[0m \u001b[0mpygplates\u001b[0m\u001b[0;34m.\u001b[0m\u001b[0mreconstruct\u001b[0m\u001b[0;34m(\u001b[0m\u001b[0mLaurentia_420_430\u001b[0m\u001b[0;34m,\u001b[0m \u001b[0mrotation_model\u001b[0m\u001b[0;34m,\u001b[0m \u001b[0;34m'../reconstructions/TC2017_SH2017/0Ma_Laurentia_420_430.shp'\u001b[0m\u001b[0;34m,\u001b[0m \u001b[0;36m0\u001b[0m\u001b[0;34m,\u001b[0m \u001b[0manchor_plate\u001b[0m\u001b[0;34m)\u001b[0m\u001b[0;34m\u001b[0m\u001b[0m\n",
      "\u001b[0;31mOpenFileForReadingError\u001b[0m: Error opening file 'CEED6_POLY.shp' for reading"
     ]
    }
   ],
   "source": [
    "rotation_model = pygplates.FeatureCollection('../models/TC2017_SHM2017_modified.rot')\n",
    "\n",
    "anchor_plate = 1\n",
    "Laurentia_0_300 = '../models/CEED6_poly_0_300_noGreenland/CEED6_POLY.shp'\n",
    "Laurentia_300_420 = '../models/CEED6_poly_300_420_noGreenland/CEED6_POLY.shp'\n",
    "Laurentia_420_430 = '../models/CEED6_poly_420_430_noGreenland/CEED6_POLY.shp'\n",
    "Laurentia_430_530 = '../models/CEED6_poly_430_530_noGreenland/CEED6_POLY.shp'\n",
    "\n",
    "pygplates.reconstruct(Laurentia_0_300, rotation_model, '../reconstructions/TC2017_SH2017/0Ma_Laurentia_0_300.shp', 0, anchor_plate)\n",
    "pygplates.reconstruct(Laurentia_300_420, rotation_model, '../reconstructions/TC2017_SH2017/0Ma_Laurentia_300_420.shp', 0, anchor_plate)\n",
    "pygplates.reconstruct(Laurentia_420_430, rotation_model, '../reconstructions/TC2017_SH2017/0Ma_Laurentia_420_430.shp', 0, anchor_plate)\n",
    "pygplates.reconstruct(Laurentia_430_530, rotation_model, '../reconstructions/TC2017_SH2017/0Ma_Laurentia_430_530.shp', 0, anchor_plate)\n",
    "\n",
    "for reconstruction_time in range(0,301):\n",
    "    export_filename = '../reconstructions/TC2017_SH2017/{0}Ma_Laurentia.shp'.format(reconstruction_time)\n",
    "    pygplates.reconstruct(Laurentia_0_300, rotation_model, export_filename, reconstruction_time, anchor_plate)\n",
    "    \n",
    "for reconstruction_time in range(301,421):\n",
    "    export_filename = '../reconstructions/TC2017_SH2017/{0}Ma_Laurentia.shp'.format(reconstruction_time)\n",
    "    pygplates.reconstruct(Laurentia_300_420, rotation_model, export_filename, reconstruction_time, anchor_plate)\n",
    "    \n",
    "for reconstruction_time in range(421,431):\n",
    "    export_filename = '../reconstructions/TC2017_SH2017/{0}Ma_Laurentia.shp'.format(reconstruction_time)\n",
    "    pygplates.reconstruct(Laurentia_420_430, rotation_model, export_filename, reconstruction_time, anchor_plate)\n",
    "    \n",
    "for reconstruction_time in range(431,531):\n",
    "    export_filename = '../reconstructions/TC2017_SH2017/{0}Ma_Laurentia.shp'.format(reconstruction_time)\n",
    "    pygplates.reconstruct(Laurentia_430_530, rotation_model, export_filename, reconstruction_time, anchor_plate)"
   ]
  }
 ],
 "metadata": {
  "kernelspec": {
   "display_name": "Python 2",
   "language": "python",
   "name": "python2"
  },
  "language_info": {
   "codemirror_mode": {
    "name": "ipython",
    "version": 2
   },
   "file_extension": ".py",
   "mimetype": "text/x-python",
   "name": "python",
   "nbconvert_exporter": "python",
   "pygments_lexer": "ipython2",
   "version": "2.7.12"
  }
 },
 "nbformat": 4,
 "nbformat_minor": 4
}
