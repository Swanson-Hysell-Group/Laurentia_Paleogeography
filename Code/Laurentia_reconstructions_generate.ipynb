{
 "cells": [
  {
   "cell_type": "markdown",
   "metadata": {},
   "source": [
    "# Laurentia paleogeographic reconstructions generation\n",
    "\n",
    "This Jupyter notebook develops paleogeographic reconstructions for Laurentia using the ```pygplates``` module (it therefore needs to be run with a Python 2.7 kernel). It is associated with the manuscript:\n",
    "\n",
    "**The Precambrian paleogeography of Laurentia** written by Nicholas L. Swanson-Hysell for a book entitled *Ancient Supercontinents and the Paleogeography of the Earth*\n",
    "\n",
    "The paleogeographic reconstructions use the model of Whitmeyer and Karlstrom (2007) with additions for Greenland based on St-Onge et al. 2009. The following PLATE_ID values are used for the different elements. Some of these 4-digit numbers follow the model of Eglington and Evans. The Eglington and Evans model had many more tectonic blocks than that of Whitmeyer and Karlstrom such that these assignments correspond to one of the numerous blocks that make up a given block.\n",
    "\n",
    "## Terrane plate IDs\n",
    "\n",
    "| Tectonic Block | Plate ID | Plate ID note |\n",
    "|------|-----|-----|\n",
    "| Churchill Province | 10496 | corresponds to Churchill (SE) in EE |\n",
    "| Hearne Province | 10015 | corresponds to Hearne South in EE |\n",
    "| Greenland_Aasiaat | 10028 | corresponds to Aasiaat in EE |\n",
    "| Greenland_Inglefield | 10568 | corresponds to Inglefield in EE |\n",
    "| Greenland_Ketilidian | 10018 | corresponds to Ketilidian in EE |\n",
    "| Greenland_NorthAtlantic | 10032 | corresponds to North Atlantic in EE |\n",
    "| Greenland_Rae | 10036 | corresponds to Rae (Greenland) in EE |\n",
    "| Grouse Creek Block | 19049 |  No equivelant block in EE (grouped with Wyoming) |\n",
    "| Marshfield Terrane | 19000 | No equivelant block in EE |\n",
    "| Medicine Hat Block | 10551 | corresponds to Medicine Hat in EE|\n",
    "| MetaIncognita Block | 10545 | Not given this name in WK07, but has differential motion relative to Rae; corresponds to MetaIncognita Block in EE |\n",
    "| Nain | 10029 | corresponds to Nain in EE (mainland Canada) |\n",
    "| Mojavia | 10052 | corresponds to Mojave in EE |\n",
    "| Nova | 10549 | Cordillera Archean Block in WK07; corresponds to Paleoproteroic Nova Block in EE |\n",
    "| Rae Province | 10640 | corresponds to Rae (SW) in EE |\n",
    "| Sask craton | 10039 | correspond to Sask in EE |\n",
    "| Scotland | 10258 | not a block in the WK07 model, but assigned to pole list; corresponds to N Highlands in EE\n",
    "| Slave Province | 10041 | corresponds to Slave W in EE |\n",
    "| Superior (east) | 10043 | corresponds to Superior (Abitibi) in EE |\n",
    "| Superior (west) | 10023 | corresponds to Superior (Minnesota River Valley) in EE |\n",
    "| Svalbard | 10296 | corresponds to Svalbard E in EE |\n",
    "| Wyoming Province | 10049 | corresponds to Wyoming in EE |"
   ]
  },
  {
   "cell_type": "code",
   "execution_count": 1,
   "metadata": {},
   "outputs": [],
   "source": [
    "import pandas as pd\n",
    "import numpy as np\n",
    "import matplotlib.pyplot as plt\n",
    "import pygplates"
   ]
  },
  {
   "cell_type": "markdown",
   "metadata": {},
   "source": [
    "## Make GMPL files of poles"
   ]
  },
  {
   "cell_type": "code",
   "execution_count": 2,
   "metadata": {},
   "outputs": [],
   "source": [
    "def make_GPML(pmag_data,output_file_name):\n",
    "    vgps = []\n",
    "    for n in pmag_data.index:\n",
    "        # The pole position and the average sample site position.\n",
    "        pole_position = pygplates.PointOnSphere(pmag_data.PLAT[n], pmag_data.PLONG[n])\n",
    "        average_sample_site_position = pygplates.PointOnSphere(pmag_data.SLAT[n], pmag_data.SLONG[n])\n",
    "\n",
    "        # Create the virtual geomagnetic pole feature.\n",
    "        virtual_geomagnetic_pole_feature = pygplates.Feature.create_reconstructable_feature(\n",
    "            pygplates.FeatureType.gpml_virtual_geomagnetic_pole,pole_position,\n",
    "            name=str(pmag_data.ROCKNAME[n]),reconstruction_plate_id=int(pmag_data.Plate_ID[n]))\n",
    "        \n",
    "        #, reconstruction_plate_id=str(pmag_data.Plate_ID[n]))\n",
    "\n",
    "        # Set the average sample site position.\n",
    "        # We need to specify its property name otherwise it defaults to the pole position and overwrites it.\n",
    "        virtual_geomagnetic_pole_feature.set_geometry(\n",
    "            average_sample_site_position,\n",
    "            pygplates.PropertyName.gpml_average_sample_site_position) \n",
    "        \n",
    "        # Set the pole position uncertainty and the average age.\n",
    "        virtual_geomagnetic_pole_feature.set_double(\n",
    "            pygplates.PropertyName.gpml_pole_a95,\n",
    "            float(pmag_data.A95[n]))\n",
    "        virtual_geomagnetic_pole_feature.set_double(\n",
    "            pygplates.PropertyName.gpml_average_age,\n",
    "            pmag_data['nominal age'][n])\n",
    "        vgps.append(virtual_geomagnetic_pole_feature)\n",
    "        \n",
    "    output_features = pygplates.FeatureCollection(vgps)\n",
    "\n",
    "    # Note that the output format could be shp, gmt, gpml or gpmlz - the extension controls the format\n",
    "    output_features.write(output_file_name)"
   ]
  },
  {
   "cell_type": "code",
   "execution_count": 3,
   "metadata": {},
   "outputs": [],
   "source": [
    "Leirubakki_poles = pd.read_csv('../Data/Leirubakki_poles_w_PlateID.csv')\n",
    "make_GPML(Leirubakki_poles,'../Data/Laurentia_poles.gpml')"
   ]
  },
  {
   "cell_type": "code",
   "execution_count": 4,
   "metadata": {},
   "outputs": [],
   "source": [
    "running_mean = pd.read_csv('../Data/Laurentia_running_mean.csv')\n",
    "make_GPML(running_mean,'../Data/Laurentia_running_mean.gpml')"
   ]
  },
  {
   "cell_type": "markdown",
   "metadata": {},
   "source": [
    "## Make Laurentia reconstructions with a simple Laurentia rotation model"
   ]
  },
  {
   "cell_type": "code",
   "execution_count": 5,
   "metadata": {},
   "outputs": [],
   "source": [
    "rotation_model = pygplates.FeatureCollection('../Models/simple_Laurentia_model.rot')\n",
    "\n",
    "anchor_plate = 0\n",
    "Laurentia_pre_430 = '../Data/Whitmeyer2007_GIS/Laurentia.shp'\n",
    "\n",
    "pygplates.reconstruct(Laurentia_pre_430, rotation_model, '../Reconstructions/Proterozoic_Laurentia_simple/0Ma_Laurentia_pre_430.shp', 0, anchor_plate)\n",
    "#for reconstruction_time in [1740,1440,1140,740]:\n",
    "for reconstruction_time in [2220,2120,1980,1880,1800,1750,1600,1450,1300,1150,1000,850,700,550,0]:\n",
    "    export_filename = '../Reconstructions/Proterozoic_Laurentia_simple/{0}Ma_Laurentia.shp'.format(reconstruction_time)\n",
    "    pygplates.reconstruct(Laurentia_pre_430, rotation_model, export_filename, reconstruction_time, anchor_plate)"
   ]
  },
  {
   "cell_type": "markdown",
   "metadata": {},
   "source": [
    "Calculate and export the Euler poles for Laurentia associated with the reconstruction times and export to .csv"
   ]
  },
  {
   "cell_type": "code",
   "execution_count": 6,
   "metadata": {},
   "outputs": [],
   "source": [
    "input_rotation_filename = '../Models/simple_Laurentia_model.rot'\n",
    "times = [1750,1600,1450,1300,1150,1000,850,700,550]\n",
    "plate_id = 1000\n",
    "empty_series = pd.Series(np.zeros(len(times)))\n",
    "rotations = pd.DataFrame(columns = ['time', 'pole_lat', 'pole_lon', 'pole_angle'])\n",
    "rotations['time'] = empty_series\n",
    "rotations['pole_lat'] = empty_series\n",
    "rotations['pole_lon'] = empty_series\n",
    "rotations['pole_angle'] = empty_series\n",
    "\n",
    "rotation_model_object = pygplates.RotationModel(input_rotation_filename)\n",
    "\n",
    "for n in range(0,len(times)):\n",
    "    finite_rotation = rotation_model_object.get_rotation(times[n],plate_id,0,0)\n",
    "    pole_lat,pole_lon,pole_angle = finite_rotation.get_lat_lon_euler_pole_and_angle_degrees()\n",
    "    rotations['time'][n] = times[n]\n",
    "    rotations['pole_lat'][n] = pole_lat\n",
    "    rotations['pole_lon'][n] = pole_lon\n",
    "    rotations['pole_angle'][n] = pole_angle\n",
    "\n",
    "rotations.to_csv('../Reconstructions/euler_rotations_Laurentia.csv')"
   ]
  },
  {
   "cell_type": "code",
   "execution_count": 7,
   "metadata": {},
   "outputs": [],
   "source": [
    "def make_euler_file(plate_id,times,input_rotation_filename):\n",
    "    \n",
    "    empty_series = pd.Series(np.zeros(len(times)))\n",
    "    rotations = pd.DataFrame(columns = ['time', 'pole_lat', 'pole_lon', 'pole_angle'])\n",
    "    rotations['time'] = empty_series\n",
    "    rotations['pole_lat'] = empty_series\n",
    "    rotations['pole_lon'] = empty_series\n",
    "    rotations['pole_angle'] = empty_series\n",
    "\n",
    "    rotation_model_object = pygplates.RotationModel(input_rotation_filename)\n",
    "\n",
    "    for n in range(0,len(times)):\n",
    "        finite_rotation = rotation_model_object.get_rotation(times[n],plate_id,0,0)\n",
    "        pole_lat,pole_lon,pole_angle = finite_rotation.get_lat_lon_euler_pole_and_angle_degrees()\n",
    "        rotations['time'][n] = times[n]\n",
    "        rotations['pole_lat'][n] = pole_lat\n",
    "        rotations['pole_lon'][n] = pole_lon\n",
    "        rotations['pole_angle'][n] = pole_angle\n",
    "\n",
    "    rotations.to_csv('../Reconstructions/euler_rotations_{0}.csv'.format(plate_id))\n",
    "    \n",
    "make_euler_file(10043,[2220,2120,1980,1880,1800,0],'../Models/simple_Laurentia_model.rot')\n",
    "make_euler_file(10023,[2220,2120,1980,1880,1800,0],'../Models/simple_Laurentia_model.rot')\n",
    "make_euler_file(10041,[2220,2120,1980,1880,1800,0],'../Models/simple_Laurentia_model.rot')\n",
    "make_euler_file(10640,[2220,2120,1980,1880,1800,0],'../Models/simple_Laurentia_model.rot')\n",
    "make_euler_file(1000,[2220,2120,1980,1880,1800,0],'../Models/simple_Laurentia_model.rot')"
   ]
  },
  {
   "cell_type": "code",
   "execution_count": null,
   "metadata": {},
   "outputs": [],
   "source": []
  },
  {
   "cell_type": "code",
   "execution_count": null,
   "metadata": {},
   "outputs": [],
   "source": []
  },
  {
   "cell_type": "code",
   "execution_count": 8,
   "metadata": {},
   "outputs": [],
   "source": [
    "Laurentia_poles = pygplates.FeatureCollection('../Data/Laurentia_poles.gpml')\n",
    "pygplates.reconstruct(Laurentia_poles, rotation_model, '../Reconstructions/Laurentia_poles_1750.shp', 1750, anchor_plate)"
   ]
  },
  {
   "cell_type": "markdown",
   "metadata": {},
   "source": [
    "Apply to simple CEED6 Laurentia outline:"
   ]
  },
  {
   "cell_type": "code",
   "execution_count": 9,
   "metadata": {},
   "outputs": [],
   "source": [
    "rotation_model = pygplates.FeatureCollection('../Models/simple_Laurentia_model.rot')\n",
    "\n",
    "anchor_plate = 0\n",
    "Laurentia_pre_430 = '../Models/CEED6_poly_430_530_noGreenland_1000/CEED6_POLY.shp'\n",
    "\n",
    "pygplates.reconstruct(Laurentia_pre_430, rotation_model, '../Reconstructions/Proterozoic_Laurentia_simple/0Ma_Laurentia_pre_430.shp', 0, anchor_plate)\n",
    "# for reconstruction_time in np.arange(530,1800,10):\n",
    "for reconstruction_time in np.arange(1000,1100,10):\n",
    "    export_filename = '../Reconstructions/Proterozoic_Laurentia_simple_outline/{0}Ma_Laurentia.shp'.format(reconstruction_time)\n",
    "    pygplates.reconstruct(Laurentia_pre_430, rotation_model, export_filename, reconstruction_time, anchor_plate)"
   ]
  },
  {
   "cell_type": "markdown",
   "metadata": {},
   "source": [
    "## Make Superior and Slave Province reconstructions prior to Laurentia assembly "
   ]
  },
  {
   "cell_type": "code",
   "execution_count": 10,
   "metadata": {},
   "outputs": [],
   "source": [
    "rotation_model = pygplates.FeatureCollection('../Models/simple_Laurentia_model.rot')\n",
    "\n",
    "anchor_plate = 0\n",
    "Laurentia_pre_430 = '../Data/Whitmeyer2007_GIS/Laurentia.shp'\n",
    "\n",
    "pygplates.reconstruct(Laurentia_pre_430, rotation_model, '../Reconstructions/Proterozoic_Laurentia_simple/0Ma_Laurentia_pre_430.shp', 0, anchor_plate)\n",
    "#for reconstruction_time in [1740,1440,1140,740]:\n",
    "for reconstruction_time in [1750,1600,1450,1300,1150,1000,850,700,550]:\n",
    "    export_filename = '../Reconstructions/Proterozoic_Laurentia_simple/{0}Ma_Laurentia.shp'.format(reconstruction_time)\n",
    "    pygplates.reconstruct(Laurentia_pre_430, rotation_model, export_filename, reconstruction_time, anchor_plate)"
   ]
  },
  {
   "cell_type": "markdown",
   "metadata": {},
   "source": [
    "# Calculate centroid paths for Laurentia using different models\n",
    "\n",
    "This noteboook contains code associated the manuscript chapter on Laurentia written by N. Swanson-Hysell for the book *“Ancient Supercontinents and the Paleogeography of the Earth.”* It calculates and exports motion paths implied for Laurentia by different paleogeographic models.\n",
    "\n"
   ]
  },
  {
   "cell_type": "code",
   "execution_count": 11,
   "metadata": {},
   "outputs": [],
   "source": [
    "import numpy as np\n",
    "import pygplates\n",
    "import matplotlib.pyplot as plt\n",
    "import pandas as pd"
   ]
  },
  {
   "cell_type": "code",
   "execution_count": 12,
   "metadata": {},
   "outputs": [],
   "source": [
    "duluth_lat = 46.8\n",
    "duluth_lon = 267.9"
   ]
  },
  {
   "cell_type": "markdown",
   "metadata": {},
   "source": [
    "## Define a function that calculates a motion path of a point\n",
    "\n",
    "We want the motion path relative to the present. As a result, we need to set the digitisation_time and reconstruction_time to be 0. The function below calculates the motion path from the max_age until the present and then returns the motion path between the max_age and the provided min_age."
   ]
  },
  {
   "cell_type": "code",
   "execution_count": 13,
   "metadata": {},
   "outputs": [],
   "source": [
    "def motion_path_calc(point_lat,point_lon,min_age,max_age,rotation_file_path,moving_plate_id,relative_plate_id):\n",
    "    \n",
    "    rotation_model = pygplates.RotationModel(rotation_file_path)\n",
    "    \n",
    "    SeedPoint = (point_lat,point_lon)\n",
    "    MovingPlate = moving_plate_id\n",
    "    RelativePlate = relative_plate_id\n",
    "    times = np.arange(0,max_age,2)\n",
    "    times_output = np.arange(min_age,max_age,2)\n",
    "    \n",
    "    # Create a motion path feature\n",
    "    digitisation_time = 0\n",
    "    seed_points_at_digitisation_time = pygplates.MultiPointOnSphere([SeedPoint]) \n",
    "    motion_path_feature = pygplates.Feature.create_motion_path(\n",
    "            seed_points_at_digitisation_time,\n",
    "            times,\n",
    "            valid_time=(max_age, 0),\n",
    "            relative_plate=RelativePlate,\n",
    "            reconstruction_plate_id = MovingPlate)\n",
    "    \n",
    "    # Create the shape of the motion path\n",
    "    reconstruction_time = 0\n",
    "    reconstructed_motion_paths = []\n",
    "    pygplates.reconstruct(\n",
    "            motion_path_feature, rotation_model, reconstructed_motion_paths, reconstruction_time,\n",
    "            reconstruct_type=pygplates.ReconstructType.motion_path)\n",
    "\n",
    "    # get the reconstructed coordinates into numpy arrays\n",
    "    for reconstructed_motion_path in reconstructed_motion_paths:\n",
    "        trail = reconstructed_motion_path.get_motion_path().to_lat_lon_array()\n",
    "        \n",
    "    return np.flipud(times_output), trail[0:len(times_output)]"
   ]
  },
  {
   "cell_type": "markdown",
   "metadata": {},
   "source": [
    "## Torsvik and Cocks, 2017"
   ]
  },
  {
   "cell_type": "code",
   "execution_count": 16,
   "metadata": {},
   "outputs": [
    {
     "data": {
      "image/png": "[encoded data removed]",
      "text/plain": [
       "<Figure size 432x288 with 1 Axes>"
      ]
     },
     "metadata": {
      "needs_background": "light"
     },
     "output_type": "display_data"
    }
   ],
   "source": [
    "rotation_file_path = '../models/TC2017.rot'\n",
    "TC_2017_times, TC_2017_trail = motion_path_calc(duluth_lat,duluth_lon,0,520,rotation_file_path,101,1)\n",
    "\n",
    "plt.plot(TC_2017_times,TC_2017_trail[:,0])\n",
    "plt.title('Paleolatitude of Laurentia centroid')\n",
    "plt.xlabel('Time (Ma)')\n",
    "plt.ylabel('Latitude')\n",
    "plt.ylim(-90,90)\n",
    "plt.gca().grid()\n",
    "plt.gca().invert_xaxis()\n",
    "plt.show()\n",
    "\n",
    "TC_2017_centroid_plat = pd.DataFrame(data=[TC_2017_times.tolist(),TC_2017_trail[:,0].tolist()]).transpose()\n",
    "TC_2017_centroid_plat.to_csv('../models/motion_paths/Torsvik_2017_duluth_reconstruct.csv')"
   ]
  },
  {
   "cell_type": "markdown",
   "metadata": {},
   "source": [
    "## Swanson-Hysell and Macdonald, 2017\n",
    "\n",
    "This model is a modification of the Torsvik and Cocks (2017) model and utilizes data from allochthonous terranes as constraints in the Ordovician."
   ]
  },
  {
   "cell_type": "code",
   "execution_count": 17,
   "metadata": {},
   "outputs": [
    {
     "data": {
      "image/png": "[encoded data removed]",
      "text/plain": [
       "<Figure size 432x288 with 1 Axes>"
      ]
     },
     "metadata": {
      "needs_background": "light"
     },
     "output_type": "display_data"
    }
   ],
   "source": [
    "rotation_file_path = '../models/TC2017_SHM2017_modified.rot'\n",
    "SH_2017_times, SH_2017_trail = motion_path_calc(duluth_lat,duluth_lon,0,520,rotation_file_path,101,1)\n",
    "\n",
    "plt.plot(SH_2017_times,SH_2017_trail[:,0])\n",
    "plt.title('Paleolatitude of Laurentia centroid')\n",
    "plt.xlabel('Time (Ma)')\n",
    "plt.ylabel('Latitude')\n",
    "plt.ylim(-90,90)\n",
    "plt.gca().grid()\n",
    "plt.gca().invert_xaxis()\n",
    "plt.show()\n",
    "\n",
    "SH_2017_centroid_plat = pd.DataFrame(data=[SH_2017_times.tolist(),SH_2017_trail[:,0].tolist()]).transpose()\n",
    "SH_2017_centroid_plat.to_csv('../models/motion_paths/SH_2017_duluth_reconstruct.csv')"
   ]
  },
  {
   "cell_type": "markdown",
   "metadata": {},
   "source": [
    "## Wright et al., 2013\n",
    "\n",
    "This model is the default model being used in Macrostrat. It seeks to cover the entiriety of the Phanerozoic. It has many fewer tectonic elements than Torsvik and Cocks (2017)."
   ]
  },
  {
   "cell_type": "code",
   "execution_count": 18,
   "metadata": {},
   "outputs": [
    {
     "data": {
      "image/png": "[encoded data removed]",
      "text/plain": [
       "<Figure size 432x288 with 1 Axes>"
      ]
     },
     "metadata": {
      "needs_background": "light"
     },
     "output_type": "display_data"
    }
   ],
   "source": [
    "rotation_file_path = '../models/Wright2013.rot'\n",
    "W_2013_times, W_2013_trail = motion_path_calc(duluth_lat,duluth_lon,0,539,rotation_file_path,101,0)\n",
    "\n",
    "plt.plot(W_2013_times,W_2013_trail[:,0])\n",
    "plt.title('Paleolatitude of Laurentia centroid')\n",
    "plt.xlabel('Time (Ma)')\n",
    "plt.ylabel('Latitude')\n",
    "plt.ylim(-90,90)\n",
    "plt.gca().grid()\n",
    "plt.gca().invert_xaxis()\n",
    "plt.show()\n",
    "\n",
    "W_2013_centroid_plat = pd.DataFrame(data=[W_2013_times.tolist(),W_2013_trail[:,0].tolist()]).transpose()\n",
    "W_2013_centroid_plat.to_csv('../models/motion_paths/W_2013_duluth_reconstruct.csv')"
   ]
  },
  {
   "cell_type": "markdown",
   "metadata": {},
   "source": [
    "## Merdith et al., 2017\n",
    "\n",
    "The model starts in earnest at 1000 Ma. However, Laurentia's rotations in the .rot file go back to 1100 Ma and continue to 410 Ma."
   ]
  },
  {
   "cell_type": "code",
   "execution_count": 19,
   "metadata": {},
   "outputs": [
    {
     "data": {
      "image/png": "[encoded data removed]",
      "text/plain": [
       "<Figure size 432x288 with 1 Axes>"
      ]
     },
     "metadata": {
      "needs_background": "light"
     },
     "output_type": "display_data"
    }
   ],
   "source": [
    "rotation_file_path = '../models/Merdith2017.rot'\n",
    "\n",
    "M_2017_times, M_2017_trail = motion_path_calc(duluth_lat,duluth_lon,410,1100,rotation_file_path,1001,0)\n",
    "\n",
    "plt.plot(M_2017_times,M_2017_trail[:,0])\n",
    "plt.title('Paleolatitude of Laurentia centroid')\n",
    "plt.xlabel('Time (Ma)')\n",
    "plt.ylabel('Latitude')\n",
    "plt.ylim(-90,90)\n",
    "plt.gca().grid()\n",
    "plt.gca().invert_xaxis()\n",
    "plt.show()\n",
    "\n",
    "M_2017_centroid_plat = pd.DataFrame(data=[M_2017_times.tolist(),M_2017_trail[:,0].tolist()]).transpose()\n",
    "M_2017_centroid_plat.to_csv('../models/motion_paths/M_2017_duluth_reconstruct.csv')"
   ]
  },
  {
   "cell_type": "markdown",
   "metadata": {},
   "source": [
    "## Minimal Laurentia model\n",
    "\n",
    "This model doesn't reconstruct Laurentia based on the poles from assumed correlations (such as Baltica) and relies on Laurentia poles along with interpolation."
   ]
  },
  {
   "cell_type": "code",
   "execution_count": 20,
   "metadata": {},
   "outputs": [
    {
     "data": {
      "image/png": "[encoded data removed]",
      "text/plain": [
       "<Figure size 432x288 with 1 Axes>"
      ]
     },
     "metadata": {
      "needs_background": "light"
     },
     "output_type": "display_data"
    }
   ],
   "source": [
    "rotation_file_path = '../models/simple_Laurentia_model.rot'\n",
    "\n",
    "SH_prot_times, SH_prot_trail = motion_path_calc(duluth_lat,duluth_lon,0,1800,rotation_file_path,1000,1)\n",
    "\n",
    "plt.plot(SH_prot_times,SH_prot_trail[:,0])\n",
    "plt.title('Paleolatitude of Laurentia centroid')\n",
    "plt.xlabel('Time (Ma)')\n",
    "plt.ylabel('Latitude')\n",
    "plt.ylim(-90,90)\n",
    "plt.gca().grid()\n",
    "plt.gca().invert_xaxis()\n",
    "plt.show()\n",
    "\n",
    "SH_prot_centroid_plat = pd.DataFrame(data=[SH_prot_times.tolist(),SH_prot_trail[:,0].tolist()]).transpose()\n",
    "SH_prot_centroid_plat.to_csv('../models/motion_paths/SH_prot_duluth_simple_reconstruct.csv')"
   ]
  },
  {
   "cell_type": "code",
   "execution_count": null,
   "metadata": {},
   "outputs": [],
   "source": [
    "####ORIGINAL FUNCTION THAT INCLUDES THE PARTITION INTO PLATES TAKING A PLATE MODEL FUNCTIONALITY####\n",
    "\n",
    "def make_GPML_w_plates(pmag_data,static_polygons_file_path,\n",
    "                       rotation_model_file_path,output_file_name):\n",
    "    \"\"\"\n",
    "    pmag_data : data frame with paleomagnetic poles. It needs to have fields\n",
    "                named PLONG, PLAT, SLONG, SLAT, A95 and nominal_age\n",
    "    static_polygons_file_path : string to static polygons are the 'partitioning \n",
    "        features used to assign plate IDs\n",
    "    rotation_model_file_path : string to rotation model partition_into_plates \n",
    "        function requires a rotation model, since sometimes this would be \n",
    "        necessary even at present day (for example to resolve topological polygons)\n",
    "    output_file_name : string for output file\n",
    "    \"\"\"\n",
    "    vgps = []\n",
    "    for n in pmag_data.index:\n",
    "        # The pole position and the average sample site position.\n",
    "        pole_position = pygplates.PointOnSphere(pmag_data.PLAT[n], pmag_data.PLONG[n])\n",
    "        average_sample_site_position = pygplates.PointOnSphere(pmag_data.SLAT[n], pmag_data.SLONG[n])\n",
    "\n",
    "        # Create the virtual geomagnetic pole feature.\n",
    "        virtual_geomagnetic_pole_feature = pygplates.Feature.create_reconstructable_feature(\n",
    "            pygplates.FeatureType.gpml_virtual_geomagnetic_pole,pole_position,name=str(pmag_data.ROCKNAME[n]))\n",
    "    #reconstruction_plate_id=701\n",
    "\n",
    "        # Set the average sample site position.\n",
    "        # We need to specify its property name otherwise it defaults to the pole position and overwrites it.\n",
    "        virtual_geomagnetic_pole_feature.set_geometry(\n",
    "            average_sample_site_position,\n",
    "            pygplates.PropertyName.gpml_average_sample_site_position)\n",
    "\n",
    "        # Set the pole position uncertainty and the average age.\n",
    "        virtual_geomagnetic_pole_feature.set_double(\n",
    "            pygplates.PropertyName.gpml_pole_a95,\n",
    "            float(pmag_data.A95[n]))\n",
    "        virtual_geomagnetic_pole_feature.set_double(\n",
    "            pygplates.PropertyName.gpml_average_age,\n",
    "            pmag_data['nominal age'][n])\n",
    "        vgps.append(virtual_geomagnetic_pole_feature)\n",
    "        \n",
    "    static_polygons = pygplates.FeatureCollection(static_polygons_file_path)\n",
    "    rotation_model = pygplates.RotationModel(rotation_model_file_path)\n",
    "        \n",
    "    # The partition points function can then be used as before\n",
    "    vgps_plates = pygplates.partition_into_plates(static_polygons,rotation_model,vgps)\n",
    "\n",
    "    output_features = pygplates.FeatureCollection(vgps_plates)\n",
    "\n",
    "    # Note that the output format could be shp, gmt, gpml or gpmlz - the extension controls the format\n",
    "    output_features.write(output_file_name)"
   ]
  },
  {
   "cell_type": "markdown",
   "metadata": {},
   "source": [
    "Using the CEED6 polygons over the Phanerozoic."
   ]
  },
  {
   "cell_type": "code",
   "execution_count": null,
   "metadata": {},
   "outputs": [],
   "source": [
    "rotation_model = pygplates.FeatureCollection('../models/TC2017_SHM2017_modified.rot')\n",
    "\n",
    "anchor_plate = 1\n",
    "Laurentia_0_300 = '../models/CEED6_poly_0_300_noGreenland/CEED6_POLY.shp'\n",
    "Laurentia_300_420 = '../models/CEED6_poly_300_420_noGreenland/CEED6_POLY.shp'\n",
    "Laurentia_420_430 = '../models/CEED6_poly_420_430_noGreenland/CEED6_POLY.shp'\n",
    "Laurentia_430_530 = '../models/CEED6_poly_430_530_noGreenland/CEED6_POLY.shp'\n",
    "\n",
    "pygplates.reconstruct(Laurentia_0_300, rotation_model, '../reconstructions/TC2017_SH2017/0Ma_Laurentia_0_300.shp', 0, anchor_plate)\n",
    "pygplates.reconstruct(Laurentia_300_420, rotation_model, '../reconstructions/TC2017_SH2017/0Ma_Laurentia_300_420.shp', 0, anchor_plate)\n",
    "pygplates.reconstruct(Laurentia_420_430, rotation_model, '../reconstructions/TC2017_SH2017/0Ma_Laurentia_420_430.shp', 0, anchor_plate)\n",
    "pygplates.reconstruct(Laurentia_430_530, rotation_model, '../reconstructions/TC2017_SH2017/0Ma_Laurentia_430_530.shp', 0, anchor_plate)\n",
    "\n",
    "for reconstruction_time in range(0,301):\n",
    "    export_filename = '../reconstructions/TC2017_SH2017/{0}Ma_Laurentia.shp'.format(reconstruction_time)\n",
    "    pygplates.reconstruct(Laurentia_0_300, rotation_model, export_filename, reconstruction_time, anchor_plate)\n",
    "    \n",
    "for reconstruction_time in range(301,421):\n",
    "    export_filename = '../reconstructions/TC2017_SH2017/{0}Ma_Laurentia.shp'.format(reconstruction_time)\n",
    "    pygplates.reconstruct(Laurentia_300_420, rotation_model, export_filename, reconstruction_time, anchor_plate)\n",
    "    \n",
    "for reconstruction_time in range(421,431):\n",
    "    export_filename = '../reconstructions/TC2017_SH2017/{0}Ma_Laurentia.shp'.format(reconstruction_time)\n",
    "    pygplates.reconstruct(Laurentia_420_430, rotation_model, export_filename, reconstruction_time, anchor_plate)\n",
    "    \n",
    "for reconstruction_time in range(431,531):\n",
    "    export_filename = '../reconstructions/TC2017_SH2017/{0}Ma_Laurentia.shp'.format(reconstruction_time)\n",
    "    pygplates.reconstruct(Laurentia_430_530, rotation_model, export_filename, reconstruction_time, anchor_plate)"
   ]
  }
 ],
 "metadata": {
  "kernelspec": {
   "display_name": "pygplates",
   "language": "python",
   "name": "pygplates"
  },
  "language_info": {
   "codemirror_mode": {
    "name": "ipython",
    "version": 2
   },
   "file_extension": ".py",
   "mimetype": "text/x-python",
   "name": "python",
   "nbconvert_exporter": "python",
   "pygments_lexer": "ipython2",
   "version": "2.7.15"
  }
 },
 "nbformat": 4,
 "nbformat_minor": 4
}
