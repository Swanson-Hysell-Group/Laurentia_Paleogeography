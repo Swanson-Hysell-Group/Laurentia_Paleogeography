{
 "cells": [
  {
   "cell_type": "code",
   "execution_count": 1,
   "metadata": {},
   "outputs": [],
   "source": [
    "import pandas as pd\n",
    "import numpy as np\n",
    "import matplotlib.pyplot as plt\n",
    "import pygplates"
   ]
  },
  {
   "cell_type": "code",
   "execution_count": 7,
   "metadata": {},
   "outputs": [],
   "source": [
    "rotation_model = pygplates.FeatureCollection('Models/simple_Laurentia_model.rot')\n",
    "\n",
    "anchor_plate = 0\n",
    "Laurentia_pre_430 = 'Models/CEED6_poly_430_530_noGreenland_1000/CEED6_POLY.shp'\n",
    "\n",
    "pygplates.reconstruct(Laurentia_pre_430, rotation_model, './reconstructions/Proterozoic_Laurentia_simple/0Ma_Laurentia_pre_430.shp', 0, anchor_plate)\n",
    "for reconstruction_time in np.arange(530,1800,10):\n",
    "    export_filename = './reconstructions/Proterozoic_Laurentia_simple/{0}Ma_Laurentia.shp'.format(reconstruction_time)\n",
    "    pygplates.reconstruct(Laurentia_pre_430, rotation_model, export_filename, reconstruction_time, anchor_plate)"
   ]
  },
  {
   "cell_type": "markdown",
   "metadata": {},
   "source": [
    "Using the CEED6 polygons over the Phanerozoic."
   ]
  },
  {
   "cell_type": "code",
   "execution_count": null,
   "metadata": {},
   "outputs": [],
   "source": [
    "rotation_model = pygplates.FeatureCollection('models/TC2017_modified.rot')\n",
    "\n",
    "anchor_plate = 1\n",
    "Laurentia_0_300 = 'models/CEED6_poly_0_300_noGreenland/CEED6_POLY.shp'\n",
    "Laurentia_300_420 = 'models/CEED6_poly_300_420_noGreenland/CEED6_POLY.shp'\n",
    "Laurentia_420_430 = 'models/CEED6_poly_420_430_noGreenland/CEED6_POLY.shp'\n",
    "Laurentia_430_530 = 'models/CEED6_poly_430_530_noGreenland/CEED6_POLY.shp'\n",
    "\n",
    "pygplates.reconstruct(Laurentia_0_300, rotation_model, './reconstructions/TC2017_SH2017/0Ma_Laurentia_0_300.shp', 0, anchor_plate)\n",
    "pygplates.reconstruct(Laurentia_300_420, rotation_model, './reconstructions/TC2017_SH2017/0Ma_Laurentia_300_420.shp', 0, anchor_plate)\n",
    "pygplates.reconstruct(Laurentia_420_430, rotation_model, './reconstructions/TC2017_SH2017/0Ma_Laurentia_420_430.shp', 0, anchor_plate)\n",
    "pygplates.reconstruct(Laurentia_430_530, rotation_model, './reconstructions/TC2017_SH2017/0Ma_Laurentia_430_530.shp', 0, anchor_plate)\n",
    "\n",
    "for reconstruction_time in range(0,301):\n",
    "    export_filename = './reconstructions/TC2017_SH2017/{0}Ma_Laurentia.shp'.format(reconstruction_time)\n",
    "    pygplates.reconstruct(Laurentia_0_300, rotation_model, export_filename, reconstruction_time, anchor_plate)\n",
    "    \n",
    "for reconstruction_time in range(301,421):\n",
    "    export_filename = './reconstructions/TC2017_SH2017/{0}Ma_Laurentia.shp'.format(reconstruction_time)\n",
    "    pygplates.reconstruct(Laurentia_300_420, rotation_model, export_filename, reconstruction_time, anchor_plate)\n",
    "    \n",
    "for reconstruction_time in range(421,431):\n",
    "    export_filename = './reconstructions/TC2017_SH2017/{0}Ma_Laurentia.shp'.format(reconstruction_time)\n",
    "    pygplates.reconstruct(Laurentia_420_430, rotation_model, export_filename, reconstruction_time, anchor_plate)\n",
    "    \n",
    "for reconstruction_time in range(431,531):\n",
    "    export_filename = './reconstructions/TC2017_SH2017/{0}Ma_Laurentia.shp'.format(reconstruction_time)\n",
    "    pygplates.reconstruct(Laurentia_430_530, rotation_model, export_filename, reconstruction_time, anchor_plate)"
   ]
  }
 ],
 "metadata": {
  "kernelspec": {
   "display_name": "Python 2",
   "language": "python",
   "name": "python2"
  },
  "language_info": {
   "codemirror_mode": {
    "name": "ipython",
    "version": 2
   },
   "file_extension": ".py",
   "mimetype": "text/x-python",
   "name": "python",
   "nbconvert_exporter": "python",
   "pygments_lexer": "ipython2",
   "version": "2.7.15"
  }
 },
 "nbformat": 4,
 "nbformat_minor": 2
}
